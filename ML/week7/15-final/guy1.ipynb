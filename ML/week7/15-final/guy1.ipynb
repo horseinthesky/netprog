{
 "cells": [
  {
   "cell_type": "markdown",
   "metadata": {},
   "source": [
    "## Предсказания победителя в онлайн-игре"
   ]
  },
  {
   "cell_type": "markdown",
   "metadata": {},
   "source": [
    "### Этап 1. Градиентный бустинг \"в лоб\""
   ]
  },
  {
   "cell_type": "code",
   "execution_count": 9,
   "metadata": {},
   "outputs": [
    {
     "data": {
      "text/html": [
       "<div>\n",
       "<style>\n",
       "    .dataframe thead tr:only-child th {\n",
       "        text-align: right;\n",
       "    }\n",
       "\n",
       "    .dataframe thead th {\n",
       "        text-align: left;\n",
       "    }\n",
       "\n",
       "    .dataframe tbody tr th {\n",
       "        vertical-align: top;\n",
       "    }\n",
       "</style>\n",
       "<table border=\"1\" class=\"dataframe\">\n",
       "  <thead>\n",
       "    <tr style=\"text-align: right;\">\n",
       "      <th></th>\n",
       "      <th>start_time</th>\n",
       "      <th>lobby_type</th>\n",
       "      <th>r1_hero</th>\n",
       "      <th>r1_level</th>\n",
       "      <th>r1_xp</th>\n",
       "      <th>r1_gold</th>\n",
       "      <th>r1_lh</th>\n",
       "      <th>r1_kills</th>\n",
       "      <th>r1_deaths</th>\n",
       "      <th>r1_items</th>\n",
       "      <th>...</th>\n",
       "      <th>dire_boots_count</th>\n",
       "      <th>dire_ward_observer_count</th>\n",
       "      <th>dire_ward_sentry_count</th>\n",
       "      <th>dire_first_ward_time</th>\n",
       "      <th>duration</th>\n",
       "      <th>radiant_win</th>\n",
       "      <th>tower_status_radiant</th>\n",
       "      <th>tower_status_dire</th>\n",
       "      <th>barracks_status_radiant</th>\n",
       "      <th>barracks_status_dire</th>\n",
       "    </tr>\n",
       "    <tr>\n",
       "      <th>match_id</th>\n",
       "      <th></th>\n",
       "      <th></th>\n",
       "      <th></th>\n",
       "      <th></th>\n",
       "      <th></th>\n",
       "      <th></th>\n",
       "      <th></th>\n",
       "      <th></th>\n",
       "      <th></th>\n",
       "      <th></th>\n",
       "      <th></th>\n",
       "      <th></th>\n",
       "      <th></th>\n",
       "      <th></th>\n",
       "      <th></th>\n",
       "      <th></th>\n",
       "      <th></th>\n",
       "      <th></th>\n",
       "      <th></th>\n",
       "      <th></th>\n",
       "      <th></th>\n",
       "    </tr>\n",
       "  </thead>\n",
       "  <tbody>\n",
       "    <tr>\n",
       "      <th>0</th>\n",
       "      <td>1430198770</td>\n",
       "      <td>7</td>\n",
       "      <td>11</td>\n",
       "      <td>5</td>\n",
       "      <td>2098</td>\n",
       "      <td>1489</td>\n",
       "      <td>20</td>\n",
       "      <td>0</td>\n",
       "      <td>0</td>\n",
       "      <td>7</td>\n",
       "      <td>...</td>\n",
       "      <td>4</td>\n",
       "      <td>2</td>\n",
       "      <td>2</td>\n",
       "      <td>-52.0</td>\n",
       "      <td>2874</td>\n",
       "      <td>1</td>\n",
       "      <td>1796</td>\n",
       "      <td>0</td>\n",
       "      <td>51</td>\n",
       "      <td>0</td>\n",
       "    </tr>\n",
       "    <tr>\n",
       "      <th>1</th>\n",
       "      <td>1430220345</td>\n",
       "      <td>0</td>\n",
       "      <td>42</td>\n",
       "      <td>4</td>\n",
       "      <td>1188</td>\n",
       "      <td>1033</td>\n",
       "      <td>9</td>\n",
       "      <td>0</td>\n",
       "      <td>1</td>\n",
       "      <td>12</td>\n",
       "      <td>...</td>\n",
       "      <td>4</td>\n",
       "      <td>3</td>\n",
       "      <td>1</td>\n",
       "      <td>-5.0</td>\n",
       "      <td>2463</td>\n",
       "      <td>1</td>\n",
       "      <td>1974</td>\n",
       "      <td>0</td>\n",
       "      <td>63</td>\n",
       "      <td>1</td>\n",
       "    </tr>\n",
       "    <tr>\n",
       "      <th>2</th>\n",
       "      <td>1430227081</td>\n",
       "      <td>7</td>\n",
       "      <td>33</td>\n",
       "      <td>4</td>\n",
       "      <td>1319</td>\n",
       "      <td>1270</td>\n",
       "      <td>22</td>\n",
       "      <td>0</td>\n",
       "      <td>0</td>\n",
       "      <td>12</td>\n",
       "      <td>...</td>\n",
       "      <td>4</td>\n",
       "      <td>3</td>\n",
       "      <td>1</td>\n",
       "      <td>13.0</td>\n",
       "      <td>2130</td>\n",
       "      <td>0</td>\n",
       "      <td>0</td>\n",
       "      <td>1830</td>\n",
       "      <td>0</td>\n",
       "      <td>63</td>\n",
       "    </tr>\n",
       "    <tr>\n",
       "      <th>3</th>\n",
       "      <td>1430263531</td>\n",
       "      <td>1</td>\n",
       "      <td>29</td>\n",
       "      <td>4</td>\n",
       "      <td>1779</td>\n",
       "      <td>1056</td>\n",
       "      <td>14</td>\n",
       "      <td>0</td>\n",
       "      <td>0</td>\n",
       "      <td>5</td>\n",
       "      <td>...</td>\n",
       "      <td>4</td>\n",
       "      <td>2</td>\n",
       "      <td>0</td>\n",
       "      <td>27.0</td>\n",
       "      <td>1459</td>\n",
       "      <td>0</td>\n",
       "      <td>1920</td>\n",
       "      <td>2047</td>\n",
       "      <td>50</td>\n",
       "      <td>63</td>\n",
       "    </tr>\n",
       "    <tr>\n",
       "      <th>4</th>\n",
       "      <td>1430282290</td>\n",
       "      <td>7</td>\n",
       "      <td>13</td>\n",
       "      <td>4</td>\n",
       "      <td>1431</td>\n",
       "      <td>1090</td>\n",
       "      <td>8</td>\n",
       "      <td>1</td>\n",
       "      <td>0</td>\n",
       "      <td>8</td>\n",
       "      <td>...</td>\n",
       "      <td>3</td>\n",
       "      <td>3</td>\n",
       "      <td>0</td>\n",
       "      <td>-16.0</td>\n",
       "      <td>2449</td>\n",
       "      <td>0</td>\n",
       "      <td>4</td>\n",
       "      <td>1974</td>\n",
       "      <td>3</td>\n",
       "      <td>63</td>\n",
       "    </tr>\n",
       "    <tr>\n",
       "      <th>5</th>\n",
       "      <td>1430284186</td>\n",
       "      <td>1</td>\n",
       "      <td>11</td>\n",
       "      <td>5</td>\n",
       "      <td>1961</td>\n",
       "      <td>1461</td>\n",
       "      <td>19</td>\n",
       "      <td>0</td>\n",
       "      <td>1</td>\n",
       "      <td>6</td>\n",
       "      <td>...</td>\n",
       "      <td>4</td>\n",
       "      <td>4</td>\n",
       "      <td>0</td>\n",
       "      <td>-43.0</td>\n",
       "      <td>1453</td>\n",
       "      <td>0</td>\n",
       "      <td>512</td>\n",
       "      <td>2038</td>\n",
       "      <td>0</td>\n",
       "      <td>63</td>\n",
       "    </tr>\n",
       "    <tr>\n",
       "      <th>8</th>\n",
       "      <td>1430293701</td>\n",
       "      <td>1</td>\n",
       "      <td>8</td>\n",
       "      <td>3</td>\n",
       "      <td>967</td>\n",
       "      <td>1136</td>\n",
       "      <td>7</td>\n",
       "      <td>1</td>\n",
       "      <td>0</td>\n",
       "      <td>8</td>\n",
       "      <td>...</td>\n",
       "      <td>6</td>\n",
       "      <td>3</td>\n",
       "      <td>0</td>\n",
       "      <td>10.0</td>\n",
       "      <td>1968</td>\n",
       "      <td>0</td>\n",
       "      <td>1536</td>\n",
       "      <td>1983</td>\n",
       "      <td>12</td>\n",
       "      <td>63</td>\n",
       "    </tr>\n",
       "  </tbody>\n",
       "</table>\n",
       "<p>7 rows × 108 columns</p>\n",
       "</div>"
      ],
      "text/plain": [
       "          start_time  lobby_type  r1_hero  r1_level  r1_xp  r1_gold  r1_lh  \\\n",
       "match_id                                                                     \n",
       "0         1430198770           7       11         5   2098     1489     20   \n",
       "1         1430220345           0       42         4   1188     1033      9   \n",
       "2         1430227081           7       33         4   1319     1270     22   \n",
       "3         1430263531           1       29         4   1779     1056     14   \n",
       "4         1430282290           7       13         4   1431     1090      8   \n",
       "5         1430284186           1       11         5   1961     1461     19   \n",
       "8         1430293701           1        8         3    967     1136      7   \n",
       "\n",
       "          r1_kills  r1_deaths  r1_items          ...           \\\n",
       "match_id                                         ...            \n",
       "0                0          0         7          ...            \n",
       "1                0          1        12          ...            \n",
       "2                0          0        12          ...            \n",
       "3                0          0         5          ...            \n",
       "4                1          0         8          ...            \n",
       "5                0          1         6          ...            \n",
       "8                1          0         8          ...            \n",
       "\n",
       "          dire_boots_count  dire_ward_observer_count  dire_ward_sentry_count  \\\n",
       "match_id                                                                       \n",
       "0                        4                         2                       2   \n",
       "1                        4                         3                       1   \n",
       "2                        4                         3                       1   \n",
       "3                        4                         2                       0   \n",
       "4                        3                         3                       0   \n",
       "5                        4                         4                       0   \n",
       "8                        6                         3                       0   \n",
       "\n",
       "          dire_first_ward_time  duration  radiant_win  tower_status_radiant  \\\n",
       "match_id                                                                      \n",
       "0                        -52.0      2874            1                  1796   \n",
       "1                         -5.0      2463            1                  1974   \n",
       "2                         13.0      2130            0                     0   \n",
       "3                         27.0      1459            0                  1920   \n",
       "4                        -16.0      2449            0                     4   \n",
       "5                        -43.0      1453            0                   512   \n",
       "8                         10.0      1968            0                  1536   \n",
       "\n",
       "          tower_status_dire  barracks_status_radiant  barracks_status_dire  \n",
       "match_id                                                                    \n",
       "0                         0                       51                     0  \n",
       "1                         0                       63                     1  \n",
       "2                      1830                        0                    63  \n",
       "3                      2047                       50                    63  \n",
       "4                      1974                        3                    63  \n",
       "5                      2038                        0                    63  \n",
       "8                      1983                       12                    63  \n",
       "\n",
       "[7 rows x 108 columns]"
      ]
     },
     "execution_count": 9,
     "metadata": {},
     "output_type": "execute_result"
    }
   ],
   "source": [
    "import pandas as pd\n",
    "\n",
    "df = pd.read_csv('features.csv', index_col='match_id')\n",
    "df.head(7)"
   ]
  },
  {
   "cell_type": "code",
   "execution_count": 10,
   "metadata": {},
   "outputs": [
    {
     "name": "stdout",
     "output_type": "stream",
     "text": [
      "(97230, 108)\n"
     ]
    }
   ],
   "source": [
    "print(df.shape)"
   ]
  },
  {
   "cell_type": "markdown",
   "metadata": {},
   "source": [
    "#### 1.1.  В обучающей выборке удаляем столбцы с признаками, использующими итоги матча"
   ]
  },
  {
   "cell_type": "code",
   "execution_count": 11,
   "metadata": {},
   "outputs": [
    {
     "data": {
      "text/plain": [
       "(97230, 102)"
      ]
     },
     "execution_count": 11,
     "metadata": {},
     "output_type": "execute_result"
    }
   ],
   "source": [
    "X = df.drop(labels=['duration', 'radiant_win', 'tower_status_radiant', 'tower_status_dire', \n",
    "                    'barracks_status_radiant', 'barracks_status_dire'], axis=1)\n",
    "X.shape"
   ]
  },
  {
   "cell_type": "markdown",
   "metadata": {},
   "source": [
    "#### 1.2. Опрелеляем столбцы, имеющие значения NaN"
   ]
  },
  {
   "cell_type": "code",
   "execution_count": 12,
   "metadata": {},
   "outputs": [
    {
     "data": {
      "text/plain": [
       "Index(['first_blood_time', 'first_blood_team', 'first_blood_player1',\n",
       "       'first_blood_player2', 'radiant_bottle_time', 'radiant_courier_time',\n",
       "       'radiant_flying_courier_time', 'radiant_first_ward_time',\n",
       "       'dire_bottle_time', 'dire_courier_time', 'dire_flying_courier_time',\n",
       "       'dire_first_ward_time'],\n",
       "      dtype='object')"
      ]
     },
     "execution_count": 12,
     "metadata": {},
     "output_type": "execute_result"
    }
   ],
   "source": [
    "X.columns[X.isnull().sum() > 0]"
   ]
  },
  {
   "cell_type": "markdown",
   "metadata": {},
   "source": [
    "#### 1.3. Заменяем пропуски в данных на значение 360"
   ]
  },
  {
   "cell_type": "code",
   "execution_count": 13,
   "metadata": {
    "collapsed": true
   },
   "outputs": [],
   "source": [
    "X = X.fillna(360)"
   ]
  },
  {
   "cell_type": "markdown",
   "metadata": {},
   "source": [
    "#### 1.4. Столбец radiant_win опрелеляем в качестве целевого"
   ]
  },
  {
   "cell_type": "code",
   "execution_count": 14,
   "metadata": {},
   "outputs": [
    {
     "data": {
      "text/plain": [
       "(97230,)"
      ]
     },
     "execution_count": 14,
     "metadata": {},
     "output_type": "execute_result"
    }
   ],
   "source": [
    "Y = df['radiant_win']\n",
    "Y.shape"
   ]
  },
  {
   "cell_type": "markdown",
   "metadata": {},
   "source": [
    "#### 1.5. Использование градиентного бустинга"
   ]
  },
  {
   "cell_type": "code",
   "execution_count": 15,
   "metadata": {},
   "outputs": [
    {
     "name": "stdout",
     "output_type": "stream",
     "text": [
      "n_tree = 10    auc_roc = 0.667032413488\n",
      "n_tree = 20    auc_roc = 0.682769823568\n",
      "n_tree = 30    auc_roc = 0.689392310643\n",
      "n_tree = 40    auc_roc = 0.694472005164\n",
      "n_tree = 50    auc_roc = 0.697800725516\n",
      "n_tree = 100    auc_roc = 0.706810886584\n",
      "n_tree = 150    auc_roc = 0.711196956907\n",
      "Time elapsed: 0:12:49.527089\n"
     ]
    }
   ],
   "source": [
    "import numpy as np\n",
    "from sklearn.metrics import roc_auc_score\n",
    "from sklearn.model_selection import KFold\n",
    "from sklearn.ensemble import GradientBoostingClassifier\n",
    "\n",
    "import time\n",
    "import datetime\n",
    "\n",
    "# преобразуем обучающие выборки и целевой столбец в массивы NumPy\n",
    "X = np.array(X)\n",
    "y = np.array(Y)\n",
    "\n",
    "# определим модель\n",
    "clf = GradientBoostingClassifier(learning_rate=0.1, random_state=999)\n",
    "\n",
    "# оценим качество модели на кросс-валидации с 5-ю блоками при количестве деревьев 10, 20, 30, 40, 50, 100, 150\n",
    "n_trees = [10, 20, 30, 40, 50, 100, 150]\n",
    "\n",
    "cv = KFold(n_splits=5, shuffle=True, random_state=999)\n",
    "\n",
    "# старт расчета\n",
    "start_time = datetime.datetime.now()\n",
    "\n",
    "for n_tree in n_trees:\n",
    "    lst=np.zeros(cv.n_splits)\n",
    "    clf.n_estimators = n_tree\n",
    "    j=0\n",
    "    for train_indexes, test_indexes in cv.split(X):\n",
    "        clf.fit(X[train_indexes], y[train_indexes])\n",
    "        pred = clf.predict_proba(X[test_indexes])\n",
    "        lst[j] = roc_auc_score(y[test_indexes], pred[:,1])\n",
    "        j+=1\n",
    "        \n",
    "    print('n_tree = ' + str(clf.n_estimators), '   auc_roc = ' + str(lst.mean()))\n",
    "    \n",
    "print('Time elapsed:', datetime.datetime.now() - start_time)"
   ]
  },
  {
   "cell_type": "markdown",
   "metadata": {},
   "source": [
    "## Отчет по этапу 1"
   ]
  },
  {
   "cell_type": "markdown",
   "metadata": {},
   "source": [
    "1. В 12-и столбцах исходных данных имеются пропуски: first_blood_time, first_blood_team, first_blood_player1, first_blood_player2, radiant_bottle_time, radiant_courier_time, radiant_flying_courier_time, radiant_first_ward_time, dire_bottle_time, dire_courier_time, dire_flying_courier_time, dire_first_ward_time.\n",
    "   \n",
    "   Все эти признаки связаны с временем наступления того или иного события, и пропуски данных в этих случаях отвечают ситуации, когда событие не возникло в первые 300 секунд игры. В этих случаях значения NaN можно заменить на число большее 300, напр., на 360 (что более правильно, чем заменять нулем - при этом, как показывают расчеты, получаем небольшой выигрыш в качестве модели).\n",
    "   \n",
    "2. Целевые данные находятся в столбце **radiant_win**, который определяет результат матча (1 - побед Radiant или 0 в противном случае).\n",
    "\n",
    "3. Кросс-валидация для градиентного бустинга с 30 деревьями на ПК с процессором Intel i7-6700K@4.0GHz и встроенной графикой заняла 58.6 секунд. Качество модели определялось по площади ROC-кривой и составило в этом случае 0.6794.\n",
    "\n",
    "4. Использование более 30 деревьев в градиентном бустинге существенно не добавляет качества моделм, однако заметно увеличивает время обработки. Так при 50 деревьях время, затраченное на обучение, составило 97 секунд при качестве модели 0.6978, а при 150 деревьях - 0.7112 и 286 секунд соответственно. Повысить скорость обучения можно уменьшив количество рассматриваемых признаков, либо проводить обучение на подмножестве объектов исходной выборки."
   ]
  },
  {
   "cell_type": "markdown",
   "metadata": {},
   "source": [
    "### Этап 2. Логистическая регрессия"
   ]
  },
  {
   "cell_type": "code",
   "execution_count": 17,
   "metadata": {},
   "outputs": [
    {
     "name": "stdout",
     "output_type": "stream",
     "text": [
      "(97230, 199)\n",
      "C = 0.05    auc_roc = 0.752305056997\n",
      "C = 1.0    auc_roc = 0.752323479063\n",
      "C = 2.0    auc_roc = 0.752326227723\n",
      "C = 3.0    auc_roc = 0.752325983123\n",
      "C = 4.0    auc_roc = 0.75232687674\n",
      "C = 5.0    auc_roc = 0.752326817583\n",
      "C = 7.0    auc_roc = 0.752327291856\n",
      "Duration:  0:03:41.317139\n"
     ]
    }
   ],
   "source": [
    "import numpy as np\n",
    "import pandas as pd\n",
    "from sklearn.linear_model import LogisticRegression\n",
    "from sklearn.preprocessing import StandardScaler\n",
    "from sklearn.model_selection import KFold\n",
    "from sklearn.metrics import roc_auc_score\n",
    "\n",
    "import time\n",
    "import datetime\n",
    "\n",
    "df = pd.read_csv('features.csv', index_col='match_id')\n",
    "\n",
    "# целевой столбец в виде массива NumPy\n",
    "y = np.array(df['radiant_win'])\n",
    "\n",
    "# удаляем признаки, зависящие от итогов матча\n",
    "df = df.drop(labels=['duration', 'radiant_win', 'tower_status_radiant', 'tower_status_dire', \n",
    "                     'barracks_status_radiant', 'barracks_status_dire'], axis=1)\n",
    "\n",
    "# формируем \"мешок слов\" из категориальных признаков\n",
    "X_pick = np.zeros((df.shape[0], 112))\n",
    "for i, match_id in enumerate(df.index):\n",
    "    for p in range(5):\n",
    "        X_pick[i, df.loc[match_id, 'r%d_hero' % (p+1)]-1] = 1\n",
    "        X_pick[i, df.loc[match_id, 'd%d_hero' % (p+1)]-1] = -1\n",
    "X_pick = np.delete(X_pick,[23,106,107,110], axis=1)  # героев с идентификаторами 24,107,108,111 нет\n",
    "\n",
    "# удаляем преобразованные категориальные признаки\n",
    "df = df.drop(labels=['lobby_type','r1_hero','r2_hero','r3_hero','r4_hero','r5_hero',\n",
    "                                  'd1_hero','d2_hero','d3_hero','d4_hero','d5_hero'], axis=1)\n",
    "\n",
    "# получаем из dataFrame массив \"объекты-признаки\", заменяя пропущенные значения на 360 \n",
    "X = np.array(df.fillna(360))\n",
    "\n",
    "# масштабируем признаки\n",
    "scaler = StandardScaler()\n",
    "X = scaler.fit_transform(X)\n",
    "\n",
    "# добавляем признаки \"мешка слов\"\n",
    "X = np.hstack((X, X_pick))\n",
    "print(X.shape)\n",
    "\n",
    "# определим модель\n",
    "clf = LogisticRegression(solver='liblinear', max_iter=500)  # 'lbfgs'\n",
    "\n",
    "# набор коэффициентов регуляризации\n",
    "Cs = [0.05, 1.0, 2.0, 3.0, 4.0, 5.0, 7.0]\n",
    "\n",
    "cv = KFold(n_splits=5, shuffle=True, random_state=999)\n",
    "\n",
    "# старт расчета\n",
    "start_time = datetime.datetime.now()\n",
    "\n",
    "for c in Cs:\n",
    "    clf.C = c\n",
    "    lst=np.zeros(cv.n_splits)\n",
    "    j=0\n",
    "    for train_indexes, test_indexes in cv.split(X):\n",
    "        clf.fit(X[train_indexes], y[train_indexes])\n",
    "        pred = clf.predict_proba(X[test_indexes])\n",
    "        lst[j] = roc_auc_score(y[test_indexes], pred[:,1])\n",
    "        j+=1\n",
    "        \n",
    "    print('C = ' + str(clf.C), '   auc_roc = ' + str(lst.mean()))\n",
    "    \n",
    "print('Duration: ', datetime.datetime.now() - start_time)\n"
   ]
  },
  {
   "cell_type": "markdown",
   "metadata": {},
   "source": [
    "### Прогноз лучшей модели на тестовой выборке"
   ]
  },
  {
   "cell_type": "code",
   "execution_count": 18,
   "metadata": {},
   "outputs": [
    {
     "name": "stdout",
     "output_type": "stream",
     "text": [
      "(17177, 199)\n",
      "min probability =  0.003285399786\n",
      "max probability =  0.996714600214\n"
     ]
    }
   ],
   "source": [
    "# обучение лучшей модели на всей исходной выборке\n",
    "cv = KFold(n_splits=5, shuffle=True, random_state=999)\n",
    "clf = LogisticRegression(C=4.0, solver='liblinear', max_iter=500)\n",
    "clf.fit(X, y)\n",
    "\n",
    "# получение и подготовка тестовой выборки\n",
    "df_test = pd.read_csv('features_test.csv', index_col='match_id')\n",
    "\n",
    "# формируем \"мешок слов\" из категориальных признаков тестовой выборки\n",
    "X_pick = np.zeros((df_test.shape[0], 112))\n",
    "for i, match_id in enumerate(df_test.index):\n",
    "    for p in range(5):\n",
    "        X_pick[i, df_test.loc[match_id, 'r%d_hero' % (p+1)]-1] = 1\n",
    "        X_pick[i, df_test.loc[match_id, 'd%d_hero' % (p+1)]-1] = -1\n",
    "X_pick = np.delete(X_pick,[23,106,107,110], axis=1)  # героев с идентификаторами 24,107,108,111 нет\n",
    "\n",
    "# удаляем преобразованные категориальные признаки\n",
    "df_test = df_test.drop(labels=['lobby_type','r1_hero','r2_hero','r3_hero','r4_hero','r5_hero',\n",
    "                               'd1_hero','d2_hero','d3_hero','d4_hero','d5_hero'], axis=1)\n",
    "\n",
    "# получаем из dataFrame массив \"объекты-признаки\", заменяя пропущенные значения на 360 \n",
    "X_test = np.array(df_test.fillna(360))\n",
    "\n",
    "# масштабируем признаки\n",
    "scaler = StandardScaler()\n",
    "X_test = scaler.fit_transform(X_test)\n",
    "\n",
    "# добавляем признаки \"мешка слов\"\n",
    "X_test = np.hstack((X_test, X_pick))\n",
    "print(X_test.shape)\n",
    "    \n",
    "# максимальный и минимальный прогноз для обученной модели на тестовой выборке\n",
    "y_test = clf.predict_proba(X_test)\n",
    "print('min probability = ', y_test.min())\n",
    "print('max probability = ', y_test.max())"
   ]
  },
  {
   "cell_type": "markdown",
   "metadata": {
    "collapsed": true
   },
   "source": [
    "## Отчет по этапу 2"
   ]
  },
  {
   "cell_type": "markdown",
   "metadata": {},
   "source": [
    "1. Качество логистической регрессии при анализе всех исходных признаков для коэффициента регуляризации C = 0.1 составило 0.7167. Оно оказалось даже выше качества градиентного бустинга. Видимо, наличие большого количества признаков в данной задаче смещает выбор модели в пользу логистической регрессии. При этом логистическая регрессия работает примерно в 3 разa Быстрее, чем аналогичная модель градиентного бустинга.\n",
    "\n",
    "2. Качество логистической регрессии при анализе непреобразованных категориальных признаков и модели, когда эти признаки исключены, практически одинаково. Это связано с тем, что категориальные признаки, кодирующие героев в виде целых чисел, слабо коррелируют с целевой переменной, т.к. в таком виде признаки несравнимы между собой. Преобразование категориальных признаков с использованием \"мешка слов\" заметно улучшает качество модели.\n",
    "\n",
    "3. Всего в матчах используется 108 различных идентификаторов героев, закодированных целыми числами в диапазоне от 1 до 112 (идентификаторы 24, 107, 108 и 111 не встречаются в исходных данных).\n",
    "\n",
    "4. Корректный учет такого важного признака как тип героя заметно и положительно сказывается на качестве модели. При замене пропущенных в исходных данных значений нулем, подбор лучшего параметра регуляризации на модели с \"мешком слов\" позволяет достичь качества модели 0.7519 при параметре регуляризации C = 0.05. При замене пропущенных значений на 360 качество модели становится чуть выше - 0.7523 и слабо зависит от коэффициента регуляризации. Для лучшей модели принят коэффициент С = 4.0.\n",
    "\n",
    "5. Минимальное и максимальное значение прогноза на тестовой выборке (минимальная и максимальная вероятность выигрыша команды Radiant) для лучшего из алгоритмов прогнозирования (логистическая регрессия, С=4.0, замена пропущенных значений на 360) оказалось равным 0.0033 и 0.997 соответственно."
   ]
  },
  {
   "cell_type": "code",
   "execution_count": null,
   "metadata": {
    "collapsed": true
   },
   "outputs": [],
   "source": []
  }
 ],
 "metadata": {
  "kernelspec": {
   "display_name": "Python 3",
   "language": "python",
   "name": "python3"
  },
  "language_info": {
   "codemirror_mode": {
    "name": "ipython",
    "version": 3
   },
   "file_extension": ".py",
   "mimetype": "text/x-python",
   "name": "python",
   "nbconvert_exporter": "python",
   "pygments_lexer": "ipython3",
   "version": "3.6.7"
  }
 },
 "nbformat": 4,
 "nbformat_minor": 2
}
