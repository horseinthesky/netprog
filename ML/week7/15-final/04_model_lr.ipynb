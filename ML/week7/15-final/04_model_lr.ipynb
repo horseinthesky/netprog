{
 "cells": [
  {
   "cell_type": "code",
   "execution_count": 1,
   "metadata": {},
   "outputs": [],
   "source": [
    "import pandas\n",
    "import helpers\n",
    "import numpy as np\n",
    "import time\n",
    "import datetime\n",
    "import matplotlib.pyplot as plt\n",
    "from sklearn.model_selection import KFold, cross_val_score, train_test_split\n",
    "from sklearn.metrics import roc_auc_score\n",
    "from sklearn.linear_model import LogisticRegression\n",
    "from sklearn.preprocessing import StandardScaler\n",
    "\n",
    "%matplotlib inline"
   ]
  },
  {
   "cell_type": "markdown",
   "metadata": {},
   "source": [
    "# Подход 2: логистическая регрессия"
   ]
  },
  {
   "cell_type": "code",
   "execution_count": 2,
   "metadata": {},
   "outputs": [
    {
     "name": "stderr",
     "output_type": "stream",
     "text": [
      "/usr/local/lib/python3.6/dist-packages/sklearn/preprocessing/data.py:625: DataConversionWarning: Data with input dtype int64, float64 were all converted to float64 by StandardScaler.\n",
      "  return self.partial_fit(X, y)\n",
      "/usr/local/lib/python3.6/dist-packages/sklearn/base.py:462: DataConversionWarning: Data with input dtype int64, float64 were all converted to float64 by StandardScaler.\n",
      "  return self.fit(X, **fit_params).transform(X)\n"
     ]
    }
   ],
   "source": [
    "X, y, X_kaggle = helpers.get_clean_data()\n",
    "scaler = StandardScaler()\n",
    "X = scaler.fit_transform(X)\n",
    "\n",
    "kf = KFold(n_splits=5, shuffle=True, random_state=42)"
   ]
  },
  {
   "cell_type": "markdown",
   "metadata": {},
   "source": [
    "# Подбираем оптимальный параметр регуляризации (C)"
   ]
  },
  {
   "cell_type": "code",
   "execution_count": 6,
   "metadata": {},
   "outputs": [],
   "source": [
    "def plot_C_scores(C_pow_range, scores):\n",
    "    plt.plot(C_pow_range, scores)\n",
    "    plt.xlabel('log(C)')\n",
    "    plt.ylabel('score')\n",
    "    plt.show()\n",
    "\n",
    "def test_model_C(X, y, C):\n",
    "    print('C =', str(C))\n",
    "    model = LogisticRegression(C=C, random_state=42, n_jobs=-1)\n",
    "    return cross_val_score(model, X, y, cv=kf, scoring='roc_auc', n_jobs=-1)\n",
    "    \n",
    "def test_model(X, y):\n",
    "    scores = []\n",
    "    C_pow_range = range(-5, 6)\n",
    "    C_range = [10.0 ** i for i in C_pow_range]\n",
    "    for C in C_range:\n",
    "        start_time = datetime.datetime.now()\n",
    "        model_scores = test_model_C(X, y, C)\n",
    "        print(model_scores)\n",
    "        print('Time elapsed:', datetime.datetime.now() - start_time)      \n",
    "        scores.append(np.mean(model_scores))\n",
    "\n",
    "    plot_C_scores(C_pow_range, scores)\n",
    "    \n",
    "    max_score = max(scores)\n",
    "    max_score_index = scores.index(max_score)\n",
    "    return C_range[max_score_index], max_score\n",
    "    "
   ]
  },
  {
   "cell_type": "code",
   "execution_count": 7,
   "metadata": {},
   "outputs": [
    {
     "name": "stdout",
     "output_type": "stream",
     "text": [
      "C = 1e-05\n",
      "[0.6931532  0.69481539 0.69571379 0.69513159 0.69699445]\n",
      "Time elapsed: 0:00:02.981910\n",
      "C = 0.0001\n",
      "[0.70956686 0.71039474 0.71170336 0.71176082 0.71336295]\n",
      "Time elapsed: 0:00:02.697788\n",
      "C = 0.001\n",
      "[0.71449541 0.71577214 0.71625974 0.71697301 0.71831738]\n",
      "Time elapsed: 0:00:04.561338\n",
      "C = 0.01\n",
      "[0.71464598 0.71617915 0.71624749 0.71735041 0.71832832]\n",
      "Time elapsed: 0:00:05.397845\n",
      "C = 0.1\n",
      "[0.71462192 0.71617479 0.71619187 0.71737596 0.7182712 ]\n",
      "Time elapsed: 0:00:06.017849\n",
      "C = 1.0\n",
      "[0.71461815 0.71617185 0.71618338 0.7173762  0.71826341]\n",
      "Time elapsed: 0:00:06.070063\n",
      "C = 10.0\n",
      "[0.71461695 0.71617179 0.71618281 0.71737669 0.7182632 ]\n",
      "Time elapsed: 0:00:06.088055\n",
      "C = 100.0\n",
      "[0.71461692 0.71617206 0.71618249 0.71737655 0.71826345]\n",
      "Time elapsed: 0:00:06.083327\n",
      "C = 1000.0\n",
      "[0.71461693 0.71617214 0.7161825  0.71737659 0.71826346]\n",
      "Time elapsed: 0:00:06.071695\n",
      "C = 10000.0\n",
      "[0.71461693 0.71617215 0.71618251 0.7173766  0.71826345]\n",
      "Time elapsed: 0:00:06.014223\n",
      "C = 100000.0\n",
      "[0.71461693 0.71617215 0.71618252 0.71737661 0.71826345]\n",
      "Time elapsed: 0:00:06.134397\n"
     ]
    },
    {
     "data": {
      "image/png": "[encoded data removed]",
      "text/plain": [
       "<Figure size 432x288 with 1 Axes>"
      ]
     },
     "metadata": {
      "needs_background": "light"
     },
     "output_type": "display_data"
    }
   ],
   "source": [
    "C, score = test_model(X, y)"
   ]
  },
  {
   "cell_type": "code",
   "execution_count": 8,
   "metadata": {},
   "outputs": [
    {
     "name": "stdout",
     "output_type": "stream",
     "text": [
      "0.01\n",
      "0.716550269725914\n"
     ]
    }
   ],
   "source": [
    "print(C)\n",
    "print(score)"
   ]
  },
  {
   "cell_type": "markdown",
   "metadata": {},
   "source": [
    "Наилучшее значение показателя AUC-ROC достигается при C = 0.01 и равно 0.71. Это сравнимо с градиентным бустингом по 250 деревьям, при этом логистическая регрессия работает заметно быстрее."
   ]
  },
  {
   "cell_type": "markdown",
   "metadata": {},
   "source": [
    "# Удаление категориальных признаков"
   ]
  },
  {
   "cell_type": "code",
   "execution_count": 10,
   "metadata": {},
   "outputs": [
    {
     "name": "stderr",
     "output_type": "stream",
     "text": [
      "/usr/local/lib/python3.6/dist-packages/sklearn/preprocessing/data.py:625: DataConversionWarning: Data with input dtype int64, float64 were all converted to float64 by StandardScaler.\n",
      "  return self.partial_fit(X, y)\n",
      "/usr/local/lib/python3.6/dist-packages/sklearn/base.py:462: DataConversionWarning: Data with input dtype int64, float64 were all converted to float64 by StandardScaler.\n",
      "  return self.fit(X, **fit_params).transform(X)\n"
     ]
    }
   ],
   "source": [
    "X, y, X_kaggle = helpers.get_clean_data('clean_category')\n",
    "scaler = StandardScaler()\n",
    "X = scaler.fit_transform(X)\n",
    "\n",
    "kf = KFold(n_splits=5, shuffle=True, random_state=42)"
   ]
  },
  {
   "cell_type": "code",
   "execution_count": 11,
   "metadata": {},
   "outputs": [
    {
     "name": "stdout",
     "output_type": "stream",
     "text": [
      "C = 1e-05\n",
      "[0.69301063 0.69476367 0.69562225 0.69507488 0.69702952]\n",
      "Time elapsed: 0:00:01.750011\n",
      "C = 0.0001\n",
      "[0.70936502 0.71042199 0.71168956 0.71168269 0.71353648]\n",
      "Time elapsed: 0:00:02.374256\n",
      "C = 0.001\n",
      "[0.71434804 0.71581532 0.71629769 0.7168852  0.71853275]\n",
      "Time elapsed: 0:00:04.169104\n",
      "C = 0.01\n",
      "[0.71450425 0.71622052 0.71627999 0.71725088 0.71854131]\n",
      "Time elapsed: 0:00:04.993551\n",
      "C = 0.1\n",
      "[0.71448206 0.71620992 0.71622569 0.71726917 0.71848436]\n",
      "Time elapsed: 0:00:05.710016\n",
      "C = 1.0\n",
      "[0.71447768 0.71620627 0.7162209  0.71727019 0.71847678]\n",
      "Time elapsed: 0:00:05.595469\n",
      "C = 10.0\n",
      "[0.71447669 0.71620645 0.71621968 0.71727123 0.71847581]\n",
      "Time elapsed: 0:00:05.600736\n",
      "C = 100.0\n",
      "[0.7144767  0.71620624 0.71621963 0.71727119 0.71847569]\n",
      "Time elapsed: 0:00:05.657997\n",
      "C = 1000.0\n",
      "[0.71447667 0.71620624 0.71621965 0.71727119 0.71847569]\n",
      "Time elapsed: 0:00:05.705528\n",
      "C = 10000.0\n",
      "[0.71447668 0.71620627 0.71621961 0.71727117 0.71847569]\n",
      "Time elapsed: 0:00:05.668546\n",
      "C = 100000.0\n",
      "[0.71447668 0.71620627 0.71621961 0.71727117 0.71847569]\n",
      "Time elapsed: 0:00:05.635586\n"
     ]
    },
    {
     "data": {
      "image/png": "[encoded data removed]",
      "text/plain": [
       "<Figure size 432x288 with 1 Axes>"
      ]
     },
     "metadata": {
      "needs_background": "light"
     },
     "output_type": "display_data"
    }
   ],
   "source": [
    "C, score = test_model(X, y)"
   ]
  },
  {
   "cell_type": "code",
   "execution_count": 12,
   "metadata": {},
   "outputs": [
    {
     "name": "stdout",
     "output_type": "stream",
     "text": [
      "0.01\n",
      "0.7165593885630225\n"
     ]
    }
   ],
   "source": [
    "print(C)\n",
    "print(score)"
   ]
  },
  {
   "cell_type": "markdown",
   "metadata": {},
   "source": [
    "Удаление категориальных признаков не повлияло на качество предсказания. Наилучшее значение показателя AUC-ROC так же достигается при C = 0.01 и равно 0.71. Получается, что в предыдущей модели эти признаки никак не влияли на результат предсказания, модель смогла распознать этот шум."
   ]
  },
  {
   "cell_type": "markdown",
   "metadata": {},
   "source": [
    "# \"Мешок слов\" для кодирования информации о героях."
   ]
  },
  {
   "cell_type": "code",
   "execution_count": 13,
   "metadata": {},
   "outputs": [
    {
     "name": "stderr",
     "output_type": "stream",
     "text": [
      "/usr/local/lib/python3.6/dist-packages/sklearn/preprocessing/data.py:625: DataConversionWarning: Data with input dtype int64, float64 were all converted to float64 by StandardScaler.\n",
      "  return self.partial_fit(X, y)\n",
      "/usr/local/lib/python3.6/dist-packages/sklearn/base.py:462: DataConversionWarning: Data with input dtype int64, float64 were all converted to float64 by StandardScaler.\n",
      "  return self.fit(X, **fit_params).transform(X)\n",
      "/usr/local/lib/python3.6/dist-packages/ipykernel_launcher.py:6: DataConversionWarning: Data with input dtype int64, float64 were all converted to float64 by StandardScaler.\n",
      "  \n"
     ]
    }
   ],
   "source": [
    "X, y, X_kaggle = helpers.get_clean_data('clean_category')\n",
    "X_hero, _y, X_kaggle_hero = helpers.get_clean_data('hero_bag')\n",
    "\n",
    "scaler = StandardScaler()\n",
    "X = pandas.DataFrame(scaler.fit_transform(X), index = X.index)\n",
    "X_kaggle = pandas.DataFrame(scaler.transform(X_kaggle), index = X_kaggle.index)\n",
    "\n",
    "X = pandas.concat([X, X_hero], axis=1)\n",
    "X_kaggle = pandas.concat([X_kaggle, X_kaggle_hero], axis=1)\n",
    "\n",
    "kf = KFold(n_splits=5, shuffle=True, random_state=42)"
   ]
  },
  {
   "cell_type": "code",
   "execution_count": 14,
   "metadata": {},
   "outputs": [
    {
     "name": "stdout",
     "output_type": "stream",
     "text": [
      "C = 1e-05\n",
      "[0.69720207 0.69884021 0.69957686 0.69934071 0.70112123]\n",
      "Time elapsed: 0:00:02.515235\n",
      "C = 0.0001\n",
      "[0.72359118 0.72409682 0.72469067 0.72599494 0.72698389]\n",
      "Time elapsed: 0:00:02.984840\n",
      "C = 0.001\n",
      "[0.74465332 0.74667772 0.74413152 0.74880233 0.74740586]\n",
      "Time elapsed: 0:00:05.307588\n",
      "C = 0.01\n",
      "[0.7494741  0.75279102 0.7492512  0.75538896 0.7517834 ]\n",
      "Time elapsed: 0:00:08.441494\n",
      "C = 0.1\n",
      "[0.74943227 0.75315633 0.74950665 0.75598193 0.75166068]\n",
      "Time elapsed: 0:00:11.028650\n",
      "C = 1.0\n",
      "[0.74936294 0.75316855 0.74949769 0.75602057 0.75158694]\n",
      "Time elapsed: 0:00:11.772526\n",
      "C = 10.0\n",
      "[0.74935123 0.75317116 0.74949885 0.75602554 0.75157988]\n",
      "Time elapsed: 0:00:11.655883\n",
      "C = 100.0\n",
      "[0.74935014 0.75317038 0.74949871 0.7560252  0.75157873]\n",
      "Time elapsed: 0:00:11.647797\n",
      "C = 1000.0\n",
      "[0.7493505  0.7531706  0.74949882 0.7560253  0.75157883]\n",
      "Time elapsed: 0:00:11.660835\n",
      "C = 10000.0\n",
      "[0.7493498  0.75317079 0.74949888 0.7560252  0.75157863]\n",
      "Time elapsed: 0:00:11.729963\n",
      "C = 100000.0\n",
      "[0.74935035 0.75317043 0.74949885 0.75602552 0.75157864]\n",
      "Time elapsed: 0:00:11.644494\n"
     ]
    },
    {
     "data": {
      "image/png": "[encoded data removed]",
      "text/plain": [
       "<Figure size 432x288 with 1 Axes>"
      ]
     },
     "metadata": {
      "needs_background": "light"
     },
     "output_type": "display_data"
    }
   ],
   "source": [
    "C, score = test_model(X, y)"
   ]
  },
  {
   "cell_type": "code",
   "execution_count": 15,
   "metadata": {},
   "outputs": [
    {
     "name": "stdout",
     "output_type": "stream",
     "text": [
      "0.1\n",
      "0.7519475726821534\n"
     ]
    }
   ],
   "source": [
    "print(C)\n",
    "print(score)"
   ]
  },
  {
   "cell_type": "markdown",
   "metadata": {},
   "source": [
    "После добавления \"мешка слов\" по героям качество заметно улучшилось. Наилучшее значение показателя AUC-ROC  достигается при C = 0.1 и равно 0.75. Это объясняется тем, что вместо отсутствия данных о героях или случайного шума из id мы имеем осмысленную разреженную матрицу для построения предсказания."
   ]
  },
  {
   "cell_type": "markdown",
   "metadata": {},
   "source": [
    "# Отправляем решение на Kaggle в соревнование: Dota 2: Win Probability Prediction.\n",
    "\n",
    "Отправим самую лучшую на данный момент модель на соревнование, и посмотрим насколько верной оказалась оценка."
   ]
  },
  {
   "cell_type": "code",
   "execution_count": 19,
   "metadata": {},
   "outputs": [],
   "source": [
    "model = LogisticRegression(C=0.1, random_state=42, n_jobs=-1, solver='lbfgs')\n",
    "model.fit(X, y)\n",
    "helpers.kaggle_save('lg_hero_bag', model, X_kaggle)"
   ]
  },
  {
   "cell_type": "code",
   "execution_count": null,
   "metadata": {},
   "outputs": [],
   "source": []
  }
 ],
 "metadata": {
  "kernelspec": {
   "display_name": "Python 3",
   "language": "python",
   "name": "python3"
  },
  "language_info": {
   "codemirror_mode": {
    "name": "ipython",
    "version": 3
   },
   "file_extension": ".py",
   "mimetype": "text/x-python",
   "name": "python",
   "nbconvert_exporter": "python",
   "pygments_lexer": "ipython3",
   "version": "3.6.7"
  }
 },
 "nbformat": 4,
 "nbformat_minor": 1
}
