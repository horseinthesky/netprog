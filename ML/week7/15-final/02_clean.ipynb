{
 "cells": [
  {
   "cell_type": "code",
   "execution_count": 1,
   "metadata": {},
   "outputs": [],
   "source": [
    "import pandas\n",
    "import helpers\n",
    "import numpy as np"
   ]
  },
  {
   "cell_type": "markdown",
   "metadata": {},
   "source": [
    "# Предобработка данных"
   ]
  },
  {
   "cell_type": "code",
   "execution_count": 2,
   "metadata": {},
   "outputs": [],
   "source": [
    "# Загружаем данные\n",
    "train = pandas.read_csv('./data/features.csv', index_col='match_id')\n",
    "test = pandas.read_csv('./data/features_test.csv', index_col='match_id')\n",
    "\n",
    "# Удаляем признаки, связанные с итогами матча\n",
    "train.drop(['duration', \n",
    "         'tower_status_radiant', \n",
    "         'tower_status_dire', \n",
    "         'barracks_status_radiant', \n",
    "         'barracks_status_dire'\n",
    "        ], axis=1, inplace=True)\n",
    "\n",
    "# И разделяем датасет на признаки и целевую переменную\n",
    "data = train\n",
    "target = train['radiant_win'].to_frame()\n",
    "del train['radiant_win']"
   ]
  },
  {
   "cell_type": "markdown",
   "metadata": {},
   "source": [
    "# Методы для очистки"
   ]
  },
  {
   "cell_type": "code",
   "execution_count": 3,
   "metadata": {},
   "outputs": [],
   "source": [
    "# Заменяем пропуски на 0\n",
    "def clean(X):\n",
    "    return X.fillna(0)"
   ]
  },
  {
   "cell_type": "code",
   "execution_count": 4,
   "metadata": {},
   "outputs": [],
   "source": [
    "# В данных присутствует 11 категориальных признаков, удаляем их\n",
    "def clean_category(X):\n",
    "    X = clean(X)\n",
    "    del X['lobby_type']\n",
    "    for n in range(1, 6):\n",
    "        del X['r{}_hero'.format(n)]\n",
    "        del X['d{}_hero'.format(n)]\n",
    "\n",
    "    return X"
   ]
  },
  {
   "cell_type": "code",
   "execution_count": 5,
   "metadata": {},
   "outputs": [
    {
     "name": "stdout",
     "output_type": "stream",
     "text": [
      "Всего героев в игре: 112\n"
     ]
    }
   ],
   "source": [
    "heroes = pandas.read_csv('./data/dictionaries/heroes.csv')\n",
    "print('Всего героев в игре:', len(heroes))"
   ]
  },
  {
   "cell_type": "code",
   "execution_count": 14,
   "metadata": {},
   "outputs": [],
   "source": [
    "# Формируем \"мешок слов\" по героям\n",
    "def hero_bag(X):\n",
    "    X_pick = np.zeros((X.shape[0], len(heroes)))\n",
    "    for i, match_id in enumerate(X.index):\n",
    "        for p in range(5):\n",
    "            X_pick[i, X.loc[match_id, 'r%d_hero' % (p+1)]-1] = 1\n",
    "            X_pick[i, X.loc[match_id, 'd%d_hero' % (p+1)]-1] = -1\n",
    "\n",
    "    return pandas.DataFrame(X_pick, index=X.index)"
   ]
  },
  {
   "cell_type": "markdown",
   "metadata": {},
   "source": [
    "# Очищаем данные и сохраняем для построения модели"
   ]
  },
  {
   "cell_type": "code",
   "execution_count": 11,
   "metadata": {},
   "outputs": [],
   "source": [
    "helpers.save_clean_data(clean, data, target, test)"
   ]
  },
  {
   "cell_type": "code",
   "execution_count": 12,
   "metadata": {},
   "outputs": [],
   "source": [
    "helpers.save_clean_data(clean_category, data, target, test, name='clean_category')"
   ]
  },
  {
   "cell_type": "code",
   "execution_count": 15,
   "metadata": {},
   "outputs": [],
   "source": [
    "helpers.save_clean_data(hero_bag, data, target, test, name='hero_bag')"
   ]
  },
  {
   "cell_type": "code",
   "execution_count": null,
   "metadata": {},
   "outputs": [],
   "source": []
  }
 ],
 "metadata": {
  "kernelspec": {
   "display_name": "Python 3",
   "language": "python",
   "name": "python3"
  },
  "language_info": {
   "codemirror_mode": {
    "name": "ipython",
    "version": 3
   },
   "file_extension": ".py",
   "mimetype": "text/x-python",
   "name": "python",
   "nbconvert_exporter": "python",
   "pygments_lexer": "ipython3",
   "version": "3.6.7"
  }
 },
 "nbformat": 4,
 "nbformat_minor": 1
}
