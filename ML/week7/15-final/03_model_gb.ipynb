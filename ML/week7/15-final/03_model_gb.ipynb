{
 "cells": [
  {
   "cell_type": "code",
   "execution_count": 2,
   "metadata": {},
   "outputs": [],
   "source": [
    "import pandas\n",
    "import helpers\n",
    "import numpy as np\n",
    "import time\n",
    "import datetime\n",
    "import matplotlib.pyplot as plt\n",
    "from sklearn.model_selection import KFold, cross_val_score, train_test_split\n",
    "from sklearn.ensemble import GradientBoostingClassifier\n",
    "from sklearn.metrics import roc_auc_score\n",
    "\n",
    "%matplotlib inline"
   ]
  },
  {
   "cell_type": "markdown",
   "metadata": {},
   "source": [
    "# Подход 1: градиентный бустинг \"в лоб\""
   ]
  },
  {
   "cell_type": "code",
   "execution_count": 4,
   "metadata": {},
   "outputs": [],
   "source": [
    "X, y, X_kaggle = helpers.get_clean_data()\n",
    "kf = KFold(n_splits=5, shuffle=True, random_state=42)"
   ]
  },
  {
   "cell_type": "markdown",
   "metadata": {},
   "source": [
    "## Подбираем оптимальное число деревьев"
   ]
  },
  {
   "cell_type": "code",
   "execution_count": 7,
   "metadata": {},
   "outputs": [
    {
     "name": "stdout",
     "output_type": "stream",
     "text": [
      "# 10\n",
      "Time elapsed: 0:00:10.467551\n",
      "[0.66383799 0.66635457 0.66360048 0.66529818 0.66516222]\n",
      "# 20\n",
      "Time elapsed: 0:00:16.956258\n",
      "[0.68083889 0.68272733 0.67969876 0.6834932  0.6855512 ]\n",
      "# 30\n",
      "Time elapsed: 0:00:24.865209\n",
      "[0.68892093 0.68934663 0.68712298 0.69180598 0.69283583]\n",
      "# 50\n",
      "Time elapsed: 0:00:40.646065\n",
      "[0.69627399 0.69747879 0.69470891 0.69921915 0.69979097]\n",
      "# 100\n",
      "Time elapsed: 0:01:20.565871\n",
      "[0.70515496 0.706077   0.70429951 0.7074682  0.70811523]\n",
      "# 250\n",
      "Time elapsed: 0:03:17.089704\n",
      "[0.71547078 0.71462661 0.71535522 0.71731507 0.71680663]\n"
     ]
    }
   ],
   "source": [
    "scores = []\n",
    "nums = [10, 20, 30, 50, 100, 250]\n",
    "for n in nums:\n",
    "    print('#', str(n))\n",
    "    model = GradientBoostingClassifier(n_estimators=n, random_state=42)\n",
    "    start_time = datetime.datetime.now()\n",
    "    model_scores = cross_val_score(model, X, y, cv=kf, scoring='roc_auc', n_jobs=-1)\n",
    "    print('Time elapsed:', datetime.datetime.now() - start_time)\n",
    "    print(model_scores)\n",
    "    scores.append(np.mean(model_scores))"
   ]
  },
  {
   "cell_type": "code",
   "execution_count": 8,
   "metadata": {},
   "outputs": [
    {
     "data": {
      "image/png": "[encoded data removed]",
      "text/plain": [
       "<Figure size 432x288 with 1 Axes>"
      ]
     },
     "metadata": {
      "needs_background": "light"
     },
     "output_type": "display_data"
    }
   ],
   "source": [
    "plt.plot(nums, scores)\n",
    "plt.xlabel('n_estimators')\n",
    "plt.ylabel('score')\n",
    "plt.show()"
   ]
  },
  {
   "cell_type": "markdown",
   "metadata": {},
   "source": [
    "Кросс-валидация для градиентного бустинга с 30 деревьями заняла 0:01:05. Показатель метрики качества AUC-ROC в таком случае равен 0.69.\n",
    "\n",
    "Увеличение количества деревьев также увеличивает показатель метрики AUC-ROC, приближая его к 0.72. Для достижения большего качества имеет смысл использовать более 30 деревьев. Для ускорения обучения можно использовать не всю выборку, а некоторое ее подмножество — например, половину объектов. Также можно уменьшить глубину деревьев (max_depth)."
   ]
  }
 ],
 "metadata": {
  "kernelspec": {
   "display_name": "Python 3",
   "language": "python",
   "name": "python3"
  },
  "language_info": {
   "codemirror_mode": {
    "name": "ipython",
    "version": 3
   },
   "file_extension": ".py",
   "mimetype": "text/x-python",
   "name": "python",
   "nbconvert_exporter": "python",
   "pygments_lexer": "ipython3",
   "version": "3.6.7"
  }
 },
 "nbformat": 4,
 "nbformat_minor": 1
}
